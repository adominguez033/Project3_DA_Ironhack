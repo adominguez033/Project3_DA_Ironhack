{
 "cells": [
  {
   "cell_type": "markdown",
   "id": "08be0d1a",
   "metadata": {},
   "source": [
    "### 1. Data extraction."
   ]
  },
  {
   "cell_type": "markdown",
   "id": "7331cbbb",
   "metadata": {},
   "source": [
    "### 1.1 NASDAQ - CSV - Tesla historical stock price"
   ]
  },
  {
   "cell_type": "code",
   "execution_count": 1,
   "id": "be9e5440",
   "metadata": {},
   "outputs": [],
   "source": [
    "import pandas as pd\n",
    "import numpy as np\n",
    "import re\n",
    "import requests\n",
    "pd.set_option(\"display.max_columns\", None)"
   ]
  },
  {
   "cell_type": "code",
   "execution_count": 2,
   "id": "0e7167dc",
   "metadata": {},
   "outputs": [
    {
     "data": {
      "text/html": [
       "<div>\n",
       "<style scoped>\n",
       "    .dataframe tbody tr th:only-of-type {\n",
       "        vertical-align: middle;\n",
       "    }\n",
       "\n",
       "    .dataframe tbody tr th {\n",
       "        vertical-align: top;\n",
       "    }\n",
       "\n",
       "    .dataframe thead th {\n",
       "        text-align: right;\n",
       "    }\n",
       "</style>\n",
       "<table border=\"1\" class=\"dataframe\">\n",
       "  <thead>\n",
       "    <tr style=\"text-align: right;\">\n",
       "      <th></th>\n",
       "      <th>Fecha</th>\n",
       "      <th>Cerrar/Ãºltimo</th>\n",
       "      <th>Volumen</th>\n",
       "      <th>Abrir</th>\n",
       "      <th>Alto</th>\n",
       "      <th>Bajo</th>\n",
       "    </tr>\n",
       "  </thead>\n",
       "  <tbody>\n",
       "    <tr>\n",
       "      <th>0</th>\n",
       "      <td>06/23/2022</td>\n",
       "      <td>$705.21</td>\n",
       "      <td>34734230</td>\n",
       "      <td>$713.715</td>\n",
       "      <td>$717.95</td>\n",
       "      <td>$685.91</td>\n",
       "    </tr>\n",
       "    <tr>\n",
       "      <th>1</th>\n",
       "      <td>06/22/2022</td>\n",
       "      <td>$708.26</td>\n",
       "      <td>33842420</td>\n",
       "      <td>$703.51</td>\n",
       "      <td>$740.5</td>\n",
       "      <td>$701.48</td>\n",
       "    </tr>\n",
       "    <tr>\n",
       "      <th>2</th>\n",
       "      <td>06/21/2022</td>\n",
       "      <td>$711.11</td>\n",
       "      <td>40930990</td>\n",
       "      <td>$673.81</td>\n",
       "      <td>$730.7321</td>\n",
       "      <td>$673</td>\n",
       "    </tr>\n",
       "    <tr>\n",
       "      <th>3</th>\n",
       "      <td>06/17/2022</td>\n",
       "      <td>$650.28</td>\n",
       "      <td>30880590</td>\n",
       "      <td>$640.3</td>\n",
       "      <td>$662.9082</td>\n",
       "      <td>$639.59</td>\n",
       "    </tr>\n",
       "    <tr>\n",
       "      <th>4</th>\n",
       "      <td>06/16/2022</td>\n",
       "      <td>$639.3</td>\n",
       "      <td>35796900</td>\n",
       "      <td>$668.21</td>\n",
       "      <td>$675.5</td>\n",
       "      <td>$626.08</td>\n",
       "    </tr>\n",
       "    <tr>\n",
       "      <th>...</th>\n",
       "      <td>...</td>\n",
       "      <td>...</td>\n",
       "      <td>...</td>\n",
       "      <td>...</td>\n",
       "      <td>...</td>\n",
       "      <td>...</td>\n",
       "    </tr>\n",
       "    <tr>\n",
       "      <th>2511</th>\n",
       "      <td>06/29/2012</td>\n",
       "      <td>$6.258</td>\n",
       "      <td>5628520</td>\n",
       "      <td>$6.56</td>\n",
       "      <td>$6.56</td>\n",
       "      <td>$6.2</td>\n",
       "    </tr>\n",
       "    <tr>\n",
       "      <th>2512</th>\n",
       "      <td>06/28/2012</td>\n",
       "      <td>$6.282</td>\n",
       "      <td>4570200</td>\n",
       "      <td>$6.38</td>\n",
       "      <td>$6.422</td>\n",
       "      <td>$6.124</td>\n",
       "    </tr>\n",
       "    <tr>\n",
       "      <th>2513</th>\n",
       "      <td>06/27/2012</td>\n",
       "      <td>$6.392</td>\n",
       "      <td>5235970</td>\n",
       "      <td>$6.38</td>\n",
       "      <td>$6.489</td>\n",
       "      <td>$6.314</td>\n",
       "    </tr>\n",
       "    <tr>\n",
       "      <th>2514</th>\n",
       "      <td>06/26/2012</td>\n",
       "      <td>$6.322</td>\n",
       "      <td>13069245</td>\n",
       "      <td>$6.41</td>\n",
       "      <td>$6.47</td>\n",
       "      <td>$6.278</td>\n",
       "    </tr>\n",
       "    <tr>\n",
       "      <th>2515</th>\n",
       "      <td>06/25/2012</td>\n",
       "      <td>$6.622</td>\n",
       "      <td>7475870</td>\n",
       "      <td>$6.788</td>\n",
       "      <td>$6.824</td>\n",
       "      <td>$6.55</td>\n",
       "    </tr>\n",
       "  </tbody>\n",
       "</table>\n",
       "<p>2516 rows × 6 columns</p>\n",
       "</div>"
      ],
      "text/plain": [
       "           Fecha Cerrar/Ãºltimo   Volumen     Abrir       Alto     Bajo\n",
       "0     06/23/2022        $705.21  34734230  $713.715    $717.95  $685.91\n",
       "1     06/22/2022        $708.26  33842420   $703.51     $740.5  $701.48\n",
       "2     06/21/2022        $711.11  40930990   $673.81  $730.7321     $673\n",
       "3     06/17/2022        $650.28  30880590    $640.3  $662.9082  $639.59\n",
       "4     06/16/2022         $639.3  35796900   $668.21     $675.5  $626.08\n",
       "...          ...            ...       ...       ...        ...      ...\n",
       "2511  06/29/2012         $6.258   5628520     $6.56      $6.56     $6.2\n",
       "2512  06/28/2012         $6.282   4570200     $6.38     $6.422   $6.124\n",
       "2513  06/27/2012         $6.392   5235970     $6.38     $6.489   $6.314\n",
       "2514  06/26/2012         $6.322  13069245     $6.41      $6.47   $6.278\n",
       "2515  06/25/2012         $6.622   7475870    $6.788     $6.824    $6.55\n",
       "\n",
       "[2516 rows x 6 columns]"
      ]
     },
     "execution_count": 2,
     "metadata": {},
     "output_type": "execute_result"
    }
   ],
   "source": [
    "df=pd.read_csv(r'C:\\Users\\alexd\\Ironhack\\Proyectos\\Project3_DA_Ironhack\\Data\\archive\\HistoricalData_1656067143500.csv', encoding='latin1')\n",
    "\n",
    "df"
   ]
  },
  {
   "cell_type": "code",
   "execution_count": 3,
   "id": "1ad2df64",
   "metadata": {},
   "outputs": [
    {
     "data": {
      "text/plain": [
       "(2516, 6)"
      ]
     },
     "execution_count": 3,
     "metadata": {},
     "output_type": "execute_result"
    }
   ],
   "source": [
    "df.shape"
   ]
  },
  {
   "cell_type": "code",
   "execution_count": 4,
   "id": "0683d6e5",
   "metadata": {},
   "outputs": [
    {
     "name": "stdout",
     "output_type": "stream",
     "text": [
      "<class 'pandas.core.frame.DataFrame'>\n",
      "RangeIndex: 2516 entries, 0 to 2515\n",
      "Data columns (total 6 columns):\n",
      " #   Column          Non-Null Count  Dtype \n",
      "---  ------          --------------  ----- \n",
      " 0   Fecha           2516 non-null   object\n",
      " 1   Cerrar/Ãºltimo  2516 non-null   object\n",
      " 2   Volumen         2516 non-null   int64 \n",
      " 3   Abrir           2516 non-null   object\n",
      " 4   Alto            2516 non-null   object\n",
      " 5   Bajo            2516 non-null   object\n",
      "dtypes: int64(1), object(5)\n",
      "memory usage: 118.1+ KB\n"
     ]
    }
   ],
   "source": [
    "df.info()"
   ]
  },
  {
   "cell_type": "code",
   "execution_count": 5,
   "id": "4960bb49",
   "metadata": {},
   "outputs": [],
   "source": [
    "df.columns=[c.lower().replace(' ', '_') for c in df.columns]\n",
    "df.columns=[c.lower().replace('cerrar/ãºltimo', 'cierre') for c in df.columns]"
   ]
  },
  {
   "cell_type": "code",
   "execution_count": 6,
   "id": "47d20aa8",
   "metadata": {},
   "outputs": [
    {
     "data": {
      "text/plain": [
       "Index(['fecha', 'cierre', 'volumen', 'abrir', 'alto', 'bajo'], dtype='object')"
      ]
     },
     "execution_count": 6,
     "metadata": {},
     "output_type": "execute_result"
    }
   ],
   "source": [
    "df.columns"
   ]
  },
  {
   "cell_type": "code",
   "execution_count": 7,
   "id": "87f43667",
   "metadata": {},
   "outputs": [
    {
     "data": {
      "text/plain": [
       "Series([], dtype: int64)"
      ]
     },
     "execution_count": 7,
     "metadata": {},
     "output_type": "execute_result"
    }
   ],
   "source": [
    "nan_cols=df.isnull().sum()\n",
    "nan_cols[nan_cols>0] "
   ]
  },
  {
   "cell_type": "code",
   "execution_count": 8,
   "id": "ba4c251b",
   "metadata": {},
   "outputs": [],
   "source": [
    "df.fecha=pd.to_datetime(df.fecha)"
   ]
  },
  {
   "cell_type": "code",
   "execution_count": 9,
   "id": "1672e6dd",
   "metadata": {},
   "outputs": [],
   "source": [
    "df['cierre'].replace('$','',inplace=True)"
   ]
  },
  {
   "cell_type": "code",
   "execution_count": 10,
   "id": "17c3bbc2",
   "metadata": {},
   "outputs": [],
   "source": [
    "df.cierre=[e.replace('$', '') for e in df.cierre]"
   ]
  },
  {
   "cell_type": "code",
   "execution_count": 11,
   "id": "97a92a0a",
   "metadata": {},
   "outputs": [],
   "source": [
    "df.abrir=[e.replace('$', '') for e in df.abrir]"
   ]
  },
  {
   "cell_type": "code",
   "execution_count": 12,
   "id": "424442a3",
   "metadata": {},
   "outputs": [],
   "source": [
    "df.alto=[e.replace('$', '') for e in df.alto]"
   ]
  },
  {
   "cell_type": "code",
   "execution_count": 13,
   "id": "74976fba",
   "metadata": {},
   "outputs": [],
   "source": [
    "df.bajo=[e.replace('$', '') for e in df.bajo]"
   ]
  },
  {
   "cell_type": "code",
   "execution_count": 14,
   "id": "35e1323d",
   "metadata": {},
   "outputs": [
    {
     "data": {
      "text/html": [
       "<div>\n",
       "<style scoped>\n",
       "    .dataframe tbody tr th:only-of-type {\n",
       "        vertical-align: middle;\n",
       "    }\n",
       "\n",
       "    .dataframe tbody tr th {\n",
       "        vertical-align: top;\n",
       "    }\n",
       "\n",
       "    .dataframe thead th {\n",
       "        text-align: right;\n",
       "    }\n",
       "</style>\n",
       "<table border=\"1\" class=\"dataframe\">\n",
       "  <thead>\n",
       "    <tr style=\"text-align: right;\">\n",
       "      <th></th>\n",
       "      <th>fecha</th>\n",
       "      <th>cierre</th>\n",
       "      <th>volumen</th>\n",
       "      <th>abrir</th>\n",
       "      <th>alto</th>\n",
       "      <th>bajo</th>\n",
       "    </tr>\n",
       "  </thead>\n",
       "  <tbody>\n",
       "    <tr>\n",
       "      <th>0</th>\n",
       "      <td>2022-06-23</td>\n",
       "      <td>705.21</td>\n",
       "      <td>34734230</td>\n",
       "      <td>713.715</td>\n",
       "      <td>717.95</td>\n",
       "      <td>685.91</td>\n",
       "    </tr>\n",
       "    <tr>\n",
       "      <th>1</th>\n",
       "      <td>2022-06-22</td>\n",
       "      <td>708.26</td>\n",
       "      <td>33842420</td>\n",
       "      <td>703.51</td>\n",
       "      <td>740.5</td>\n",
       "      <td>701.48</td>\n",
       "    </tr>\n",
       "    <tr>\n",
       "      <th>2</th>\n",
       "      <td>2022-06-21</td>\n",
       "      <td>711.11</td>\n",
       "      <td>40930990</td>\n",
       "      <td>673.81</td>\n",
       "      <td>730.7321</td>\n",
       "      <td>673</td>\n",
       "    </tr>\n",
       "    <tr>\n",
       "      <th>3</th>\n",
       "      <td>2022-06-17</td>\n",
       "      <td>650.28</td>\n",
       "      <td>30880590</td>\n",
       "      <td>640.3</td>\n",
       "      <td>662.9082</td>\n",
       "      <td>639.59</td>\n",
       "    </tr>\n",
       "    <tr>\n",
       "      <th>4</th>\n",
       "      <td>2022-06-16</td>\n",
       "      <td>639.3</td>\n",
       "      <td>35796900</td>\n",
       "      <td>668.21</td>\n",
       "      <td>675.5</td>\n",
       "      <td>626.08</td>\n",
       "    </tr>\n",
       "    <tr>\n",
       "      <th>...</th>\n",
       "      <td>...</td>\n",
       "      <td>...</td>\n",
       "      <td>...</td>\n",
       "      <td>...</td>\n",
       "      <td>...</td>\n",
       "      <td>...</td>\n",
       "    </tr>\n",
       "    <tr>\n",
       "      <th>2511</th>\n",
       "      <td>2012-06-29</td>\n",
       "      <td>6.258</td>\n",
       "      <td>5628520</td>\n",
       "      <td>6.56</td>\n",
       "      <td>6.56</td>\n",
       "      <td>6.2</td>\n",
       "    </tr>\n",
       "    <tr>\n",
       "      <th>2512</th>\n",
       "      <td>2012-06-28</td>\n",
       "      <td>6.282</td>\n",
       "      <td>4570200</td>\n",
       "      <td>6.38</td>\n",
       "      <td>6.422</td>\n",
       "      <td>6.124</td>\n",
       "    </tr>\n",
       "    <tr>\n",
       "      <th>2513</th>\n",
       "      <td>2012-06-27</td>\n",
       "      <td>6.392</td>\n",
       "      <td>5235970</td>\n",
       "      <td>6.38</td>\n",
       "      <td>6.489</td>\n",
       "      <td>6.314</td>\n",
       "    </tr>\n",
       "    <tr>\n",
       "      <th>2514</th>\n",
       "      <td>2012-06-26</td>\n",
       "      <td>6.322</td>\n",
       "      <td>13069245</td>\n",
       "      <td>6.41</td>\n",
       "      <td>6.47</td>\n",
       "      <td>6.278</td>\n",
       "    </tr>\n",
       "    <tr>\n",
       "      <th>2515</th>\n",
       "      <td>2012-06-25</td>\n",
       "      <td>6.622</td>\n",
       "      <td>7475870</td>\n",
       "      <td>6.788</td>\n",
       "      <td>6.824</td>\n",
       "      <td>6.55</td>\n",
       "    </tr>\n",
       "  </tbody>\n",
       "</table>\n",
       "<p>2516 rows × 6 columns</p>\n",
       "</div>"
      ],
      "text/plain": [
       "          fecha  cierre   volumen    abrir      alto    bajo\n",
       "0    2022-06-23  705.21  34734230  713.715    717.95  685.91\n",
       "1    2022-06-22  708.26  33842420   703.51     740.5  701.48\n",
       "2    2022-06-21  711.11  40930990   673.81  730.7321     673\n",
       "3    2022-06-17  650.28  30880590    640.3  662.9082  639.59\n",
       "4    2022-06-16   639.3  35796900   668.21     675.5  626.08\n",
       "...         ...     ...       ...      ...       ...     ...\n",
       "2511 2012-06-29   6.258   5628520     6.56      6.56     6.2\n",
       "2512 2012-06-28   6.282   4570200     6.38     6.422   6.124\n",
       "2513 2012-06-27   6.392   5235970     6.38     6.489   6.314\n",
       "2514 2012-06-26   6.322  13069245     6.41      6.47   6.278\n",
       "2515 2012-06-25   6.622   7475870    6.788     6.824    6.55\n",
       "\n",
       "[2516 rows x 6 columns]"
      ]
     },
     "execution_count": 14,
     "metadata": {},
     "output_type": "execute_result"
    }
   ],
   "source": [
    "df"
   ]
  },
  {
   "cell_type": "code",
   "execution_count": 15,
   "id": "3c17566f",
   "metadata": {},
   "outputs": [
    {
     "name": "stdout",
     "output_type": "stream",
     "text": [
      "<class 'pandas.core.frame.DataFrame'>\n",
      "RangeIndex: 2516 entries, 0 to 2515\n",
      "Data columns (total 6 columns):\n",
      " #   Column   Non-Null Count  Dtype         \n",
      "---  ------   --------------  -----         \n",
      " 0   fecha    2516 non-null   datetime64[ns]\n",
      " 1   cierre   2516 non-null   object        \n",
      " 2   volumen  2516 non-null   int64         \n",
      " 3   abrir    2516 non-null   object        \n",
      " 4   alto     2516 non-null   object        \n",
      " 5   bajo     2516 non-null   object        \n",
      "dtypes: datetime64[ns](1), int64(1), object(4)\n",
      "memory usage: 118.1+ KB\n"
     ]
    }
   ],
   "source": [
    "df.info()"
   ]
  },
  {
   "cell_type": "code",
   "execution_count": 16,
   "id": "2aa8e3b1",
   "metadata": {},
   "outputs": [],
   "source": [
    "df['cierre'] = df['cierre'].astype('float')\n",
    "df['abrir'] = df['abrir'].astype('float')\n",
    "df['alto'] = df['alto'].astype('float')\n",
    "df['bajo'] = df['bajo'].astype('float')"
   ]
  },
  {
   "cell_type": "code",
   "execution_count": 17,
   "id": "afdb7b67",
   "metadata": {},
   "outputs": [
    {
     "name": "stdout",
     "output_type": "stream",
     "text": [
      "<class 'pandas.core.frame.DataFrame'>\n",
      "RangeIndex: 2516 entries, 0 to 2515\n",
      "Data columns (total 6 columns):\n",
      " #   Column   Non-Null Count  Dtype         \n",
      "---  ------   --------------  -----         \n",
      " 0   fecha    2516 non-null   datetime64[ns]\n",
      " 1   cierre   2516 non-null   float64       \n",
      " 2   volumen  2516 non-null   int64         \n",
      " 3   abrir    2516 non-null   float64       \n",
      " 4   alto     2516 non-null   float64       \n",
      " 5   bajo     2516 non-null   float64       \n",
      "dtypes: datetime64[ns](1), float64(4), int64(1)\n",
      "memory usage: 118.1 KB\n"
     ]
    }
   ],
   "source": [
    "df.info()"
   ]
  },
  {
   "cell_type": "code",
   "execution_count": 18,
   "id": "a31b07ac",
   "metadata": {},
   "outputs": [],
   "source": [
    "df['movimiento_diario']=df['cierre']-df['abrir']"
   ]
  },
  {
   "cell_type": "code",
   "execution_count": 19,
   "id": "f03d16fa",
   "metadata": {},
   "outputs": [],
   "source": [
    "df['year'] = pd.DatetimeIndex(df['fecha']).year"
   ]
  },
  {
   "cell_type": "code",
   "execution_count": 20,
   "id": "87246098",
   "metadata": {},
   "outputs": [],
   "source": [
    "df['month'] = pd.DatetimeIndex(df['fecha']).month"
   ]
  },
  {
   "cell_type": "code",
   "execution_count": 21,
   "id": "5b496e73",
   "metadata": {},
   "outputs": [
    {
     "data": {
      "text/html": [
       "<div>\n",
       "<style scoped>\n",
       "    .dataframe tbody tr th:only-of-type {\n",
       "        vertical-align: middle;\n",
       "    }\n",
       "\n",
       "    .dataframe tbody tr th {\n",
       "        vertical-align: top;\n",
       "    }\n",
       "\n",
       "    .dataframe thead th {\n",
       "        text-align: right;\n",
       "    }\n",
       "</style>\n",
       "<table border=\"1\" class=\"dataframe\">\n",
       "  <thead>\n",
       "    <tr style=\"text-align: right;\">\n",
       "      <th></th>\n",
       "      <th>fecha</th>\n",
       "      <th>cierre</th>\n",
       "      <th>volumen</th>\n",
       "      <th>abrir</th>\n",
       "      <th>alto</th>\n",
       "      <th>bajo</th>\n",
       "      <th>movimiento_diario</th>\n",
       "      <th>year</th>\n",
       "      <th>month</th>\n",
       "    </tr>\n",
       "  </thead>\n",
       "  <tbody>\n",
       "    <tr>\n",
       "      <th>0</th>\n",
       "      <td>2022-06-23</td>\n",
       "      <td>705.21</td>\n",
       "      <td>34734230</td>\n",
       "      <td>713.715</td>\n",
       "      <td>717.9500</td>\n",
       "      <td>685.91</td>\n",
       "      <td>-8.505</td>\n",
       "      <td>2022</td>\n",
       "      <td>6</td>\n",
       "    </tr>\n",
       "    <tr>\n",
       "      <th>1</th>\n",
       "      <td>2022-06-22</td>\n",
       "      <td>708.26</td>\n",
       "      <td>33842420</td>\n",
       "      <td>703.510</td>\n",
       "      <td>740.5000</td>\n",
       "      <td>701.48</td>\n",
       "      <td>4.750</td>\n",
       "      <td>2022</td>\n",
       "      <td>6</td>\n",
       "    </tr>\n",
       "    <tr>\n",
       "      <th>2</th>\n",
       "      <td>2022-06-21</td>\n",
       "      <td>711.11</td>\n",
       "      <td>40930990</td>\n",
       "      <td>673.810</td>\n",
       "      <td>730.7321</td>\n",
       "      <td>673.00</td>\n",
       "      <td>37.300</td>\n",
       "      <td>2022</td>\n",
       "      <td>6</td>\n",
       "    </tr>\n",
       "    <tr>\n",
       "      <th>3</th>\n",
       "      <td>2022-06-17</td>\n",
       "      <td>650.28</td>\n",
       "      <td>30880590</td>\n",
       "      <td>640.300</td>\n",
       "      <td>662.9082</td>\n",
       "      <td>639.59</td>\n",
       "      <td>9.980</td>\n",
       "      <td>2022</td>\n",
       "      <td>6</td>\n",
       "    </tr>\n",
       "    <tr>\n",
       "      <th>4</th>\n",
       "      <td>2022-06-16</td>\n",
       "      <td>639.30</td>\n",
       "      <td>35796900</td>\n",
       "      <td>668.210</td>\n",
       "      <td>675.5000</td>\n",
       "      <td>626.08</td>\n",
       "      <td>-28.910</td>\n",
       "      <td>2022</td>\n",
       "      <td>6</td>\n",
       "    </tr>\n",
       "  </tbody>\n",
       "</table>\n",
       "</div>"
      ],
      "text/plain": [
       "       fecha  cierre   volumen    abrir      alto    bajo  movimiento_diario  \\\n",
       "0 2022-06-23  705.21  34734230  713.715  717.9500  685.91             -8.505   \n",
       "1 2022-06-22  708.26  33842420  703.510  740.5000  701.48              4.750   \n",
       "2 2022-06-21  711.11  40930990  673.810  730.7321  673.00             37.300   \n",
       "3 2022-06-17  650.28  30880590  640.300  662.9082  639.59              9.980   \n",
       "4 2022-06-16  639.30  35796900  668.210  675.5000  626.08            -28.910   \n",
       "\n",
       "   year  month  \n",
       "0  2022      6  \n",
       "1  2022      6  \n",
       "2  2022      6  \n",
       "3  2022      6  \n",
       "4  2022      6  "
      ]
     },
     "execution_count": 21,
     "metadata": {},
     "output_type": "execute_result"
    }
   ],
   "source": [
    "df.head()"
   ]
  },
  {
   "cell_type": "markdown",
   "id": "eb7a59cf",
   "metadata": {},
   "source": [
    "### 1.2 Kaggle - CSV - Elon Musk historical tweets"
   ]
  },
  {
   "cell_type": "code",
   "execution_count": 22,
   "id": "8873fa35",
   "metadata": {},
   "outputs": [
    {
     "data": {
      "text/html": [
       "<div>\n",
       "<style scoped>\n",
       "    .dataframe tbody tr th:only-of-type {\n",
       "        vertical-align: middle;\n",
       "    }\n",
       "\n",
       "    .dataframe tbody tr th {\n",
       "        vertical-align: top;\n",
       "    }\n",
       "\n",
       "    .dataframe thead th {\n",
       "        text-align: right;\n",
       "    }\n",
       "</style>\n",
       "<table border=\"1\" class=\"dataframe\">\n",
       "  <thead>\n",
       "    <tr style=\"text-align: right;\">\n",
       "      <th></th>\n",
       "      <th>Tweet</th>\n",
       "      <th>UserScreenName</th>\n",
       "      <th>UserName</th>\n",
       "      <th>Timestamp</th>\n",
       "      <th>text</th>\n",
       "      <th>Emojis</th>\n",
       "      <th>Comments</th>\n",
       "      <th>Likes</th>\n",
       "      <th>Retweets</th>\n",
       "      <th>Image link</th>\n",
       "      <th>Tweet URL</th>\n",
       "    </tr>\n",
       "  </thead>\n",
       "  <tbody>\n",
       "    <tr>\n",
       "      <th>0</th>\n",
       "      <td>0</td>\n",
       "      <td>Elon Musk</td>\n",
       "      <td>@elonmusk</td>\n",
       "      <td>2010-06-04T18:31:57.000Z</td>\n",
       "      <td>Please ignore prior tweets, as that was someon...</td>\n",
       "      <td>NaN</td>\n",
       "      <td>873</td>\n",
       "      <td>648</td>\n",
       "      <td>5,453</td>\n",
       "      <td>[]</td>\n",
       "      <td>https://twitter.com/elonmusk/status/15434727182</td>\n",
       "    </tr>\n",
       "    <tr>\n",
       "      <th>1</th>\n",
       "      <td>1</td>\n",
       "      <td>Elon Musk</td>\n",
       "      <td>@elonmusk</td>\n",
       "      <td>2011-12-01T09:55:11.000Z</td>\n",
       "      <td>Went to Iceland on Sat to ride bumper cars on ...</td>\n",
       "      <td>NaN</td>\n",
       "      <td>30</td>\n",
       "      <td>24</td>\n",
       "      <td>188</td>\n",
       "      <td>['https://pbs.twimg.com/media/Afkf5DMCAAEJGFr?...</td>\n",
       "      <td>https://twitter.com/elonmusk/status/1421799282...</td>\n",
       "    </tr>\n",
       "    <tr>\n",
       "      <th>2</th>\n",
       "      <td>2</td>\n",
       "      <td>Elon Musk</td>\n",
       "      <td>@elonmusk</td>\n",
       "      <td>2011-12-01T10:29:04.000Z</td>\n",
       "      <td>I made the volume on the Model S http://ow.ly/...</td>\n",
       "      <td>NaN</td>\n",
       "      <td>29</td>\n",
       "      <td>17</td>\n",
       "      <td>78</td>\n",
       "      <td>[]</td>\n",
       "      <td>https://twitter.com/elonmusk/status/1421884581...</td>\n",
       "    </tr>\n",
       "    <tr>\n",
       "      <th>3</th>\n",
       "      <td>3</td>\n",
       "      <td>Elon Musk</td>\n",
       "      <td>@elonmusk</td>\n",
       "      <td>2011-12-03T08:20:28.000Z</td>\n",
       "      <td>Great Voltaire quote, arguably better than Twa...</td>\n",
       "      <td>NaN</td>\n",
       "      <td>23</td>\n",
       "      <td>30</td>\n",
       "      <td>44</td>\n",
       "      <td>[]</td>\n",
       "      <td>https://twitter.com/elonmusk/status/1428808713...</td>\n",
       "    </tr>\n",
       "    <tr>\n",
       "      <th>4</th>\n",
       "      <td>4</td>\n",
       "      <td>Elon Musk</td>\n",
       "      <td>@elonmusk</td>\n",
       "      <td>2011-12-03T08:22:07.000Z</td>\n",
       "      <td>That was a total non sequitur btw\\n26\\n14\\n50</td>\n",
       "      <td>NaN</td>\n",
       "      <td>26</td>\n",
       "      <td>14</td>\n",
       "      <td>50</td>\n",
       "      <td>[]</td>\n",
       "      <td>https://twitter.com/elonmusk/status/1428812840...</td>\n",
       "    </tr>\n",
       "  </tbody>\n",
       "</table>\n",
       "</div>"
      ],
      "text/plain": [
       "   Tweet UserScreenName   UserName                 Timestamp  \\\n",
       "0      0      Elon Musk  @elonmusk  2010-06-04T18:31:57.000Z   \n",
       "1      1      Elon Musk  @elonmusk  2011-12-01T09:55:11.000Z   \n",
       "2      2      Elon Musk  @elonmusk  2011-12-01T10:29:04.000Z   \n",
       "3      3      Elon Musk  @elonmusk  2011-12-03T08:20:28.000Z   \n",
       "4      4      Elon Musk  @elonmusk  2011-12-03T08:22:07.000Z   \n",
       "\n",
       "                                                text Emojis Comments Likes  \\\n",
       "0  Please ignore prior tweets, as that was someon...    NaN      873   648   \n",
       "1  Went to Iceland on Sat to ride bumper cars on ...    NaN       30    24   \n",
       "2  I made the volume on the Model S http://ow.ly/...    NaN       29    17   \n",
       "3  Great Voltaire quote, arguably better than Twa...    NaN       23    30   \n",
       "4      That was a total non sequitur btw\\n26\\n14\\n50    NaN       26    14   \n",
       "\n",
       "  Retweets                                         Image link  \\\n",
       "0    5,453                                                 []   \n",
       "1      188  ['https://pbs.twimg.com/media/Afkf5DMCAAEJGFr?...   \n",
       "2       78                                                 []   \n",
       "3       44                                                 []   \n",
       "4       50                                                 []   \n",
       "\n",
       "                                           Tweet URL  \n",
       "0    https://twitter.com/elonmusk/status/15434727182  \n",
       "1  https://twitter.com/elonmusk/status/1421799282...  \n",
       "2  https://twitter.com/elonmusk/status/1421884581...  \n",
       "3  https://twitter.com/elonmusk/status/1428808713...  \n",
       "4  https://twitter.com/elonmusk/status/1428812840...  "
      ]
     },
     "execution_count": 22,
     "metadata": {},
     "output_type": "execute_result"
    }
   ],
   "source": [
    "df2=pd.read_csv(r'C:\\Users\\alexd\\Ironhack\\Proyectos\\Project3_DA_Ironhack\\Data\\archive\\elonmusk.csv', encoding='latin1')\n",
    "\n",
    "df2.head()"
   ]
  },
  {
   "cell_type": "code",
   "execution_count": 23,
   "id": "700d1bb9",
   "metadata": {},
   "outputs": [
    {
     "data": {
      "text/plain": [
       "(12206, 11)"
      ]
     },
     "execution_count": 23,
     "metadata": {},
     "output_type": "execute_result"
    }
   ],
   "source": [
    "df2.shape"
   ]
  },
  {
   "cell_type": "code",
   "execution_count": 24,
   "id": "3848b431",
   "metadata": {},
   "outputs": [
    {
     "name": "stdout",
     "output_type": "stream",
     "text": [
      "<class 'pandas.core.frame.DataFrame'>\n",
      "RangeIndex: 12206 entries, 0 to 12205\n",
      "Data columns (total 11 columns):\n",
      " #   Column          Non-Null Count  Dtype \n",
      "---  ------          --------------  ----- \n",
      " 0   Tweet           12206 non-null  int64 \n",
      " 1   UserScreenName  12206 non-null  object\n",
      " 2   UserName        12206 non-null  object\n",
      " 3   Timestamp       12206 non-null  object\n",
      " 4   text            12206 non-null  object\n",
      " 5   Emojis          854 non-null    object\n",
      " 6   Comments        12186 non-null  object\n",
      " 7   Likes           12183 non-null  object\n",
      " 8   Retweets        12206 non-null  object\n",
      " 9   Image link      12206 non-null  object\n",
      " 10  Tweet URL       12206 non-null  object\n",
      "dtypes: int64(1), object(10)\n",
      "memory usage: 1.0+ MB\n"
     ]
    }
   ],
   "source": [
    "df2.info()"
   ]
  },
  {
   "cell_type": "code",
   "execution_count": 25,
   "id": "91fa2a6c",
   "metadata": {},
   "outputs": [
    {
     "data": {
      "text/plain": [
       "Index(['tweet', 'userscreenname', 'username', 'post_time', 'text', 'emojis',\n",
       "       'comments', 'likes', 'retweets', 'image_link', 'tweet_url'],\n",
       "      dtype='object')"
      ]
     },
     "execution_count": 25,
     "metadata": {},
     "output_type": "execute_result"
    }
   ],
   "source": [
    "df2.columns=[c.lower().replace(' ', '_') for c in df2.columns]\n",
    "df2.columns=[c.lower().replace('timestamp', 'post_time') for c in df2.columns]\n",
    "df2.columns"
   ]
  },
  {
   "cell_type": "code",
   "execution_count": 26,
   "id": "c1d5041a",
   "metadata": {},
   "outputs": [
    {
     "data": {
      "text/plain": [
       "emojis      11352\n",
       "comments       20\n",
       "likes          23\n",
       "dtype: int64"
      ]
     },
     "execution_count": 26,
     "metadata": {},
     "output_type": "execute_result"
    }
   ],
   "source": [
    "nan_cols=df2.isnull().sum()\n",
    "nan_cols[nan_cols>0] "
   ]
  },
  {
   "cell_type": "code",
   "execution_count": 27,
   "id": "0bda04bf",
   "metadata": {},
   "outputs": [],
   "source": [
    "del df2['tweet']\n",
    "del df2['emojis']"
   ]
  },
  {
   "cell_type": "code",
   "execution_count": 28,
   "id": "5695c000",
   "metadata": {},
   "outputs": [],
   "source": [
    "df2[\"comments\"].fillna(\"0\", inplace = True)\n",
    "df2[\"likes\"].fillna(\"0\", inplace = True)"
   ]
  },
  {
   "cell_type": "code",
   "execution_count": 29,
   "id": "467f4bef",
   "metadata": {},
   "outputs": [],
   "source": [
    "def time(col):\n",
    "    \n",
    "    res1=[]\n",
    "    \n",
    "    \n",
    "    for e in col:\n",
    "        res1.append(e[0:10])\n",
    "        \n",
    "    return res1"
   ]
  },
  {
   "cell_type": "code",
   "execution_count": 30,
   "id": "80907ccb",
   "metadata": {},
   "outputs": [
    {
     "data": {
      "text/html": [
       "<div>\n",
       "<style scoped>\n",
       "    .dataframe tbody tr th:only-of-type {\n",
       "        vertical-align: middle;\n",
       "    }\n",
       "\n",
       "    .dataframe tbody tr th {\n",
       "        vertical-align: top;\n",
       "    }\n",
       "\n",
       "    .dataframe thead th {\n",
       "        text-align: right;\n",
       "    }\n",
       "</style>\n",
       "<table border=\"1\" class=\"dataframe\">\n",
       "  <thead>\n",
       "    <tr style=\"text-align: right;\">\n",
       "      <th></th>\n",
       "      <th>userscreenname</th>\n",
       "      <th>username</th>\n",
       "      <th>post_time</th>\n",
       "      <th>text</th>\n",
       "      <th>comments</th>\n",
       "      <th>likes</th>\n",
       "      <th>retweets</th>\n",
       "      <th>image_link</th>\n",
       "      <th>tweet_url</th>\n",
       "      <th>n_post_time</th>\n",
       "    </tr>\n",
       "  </thead>\n",
       "  <tbody>\n",
       "    <tr>\n",
       "      <th>0</th>\n",
       "      <td>Elon Musk</td>\n",
       "      <td>@elonmusk</td>\n",
       "      <td>2010-06-04T18:31:57.000Z</td>\n",
       "      <td>Please ignore prior tweets, as that was someon...</td>\n",
       "      <td>873</td>\n",
       "      <td>648</td>\n",
       "      <td>5,453</td>\n",
       "      <td>[]</td>\n",
       "      <td>https://twitter.com/elonmusk/status/15434727182</td>\n",
       "      <td>2010-06-04</td>\n",
       "    </tr>\n",
       "    <tr>\n",
       "      <th>1</th>\n",
       "      <td>Elon Musk</td>\n",
       "      <td>@elonmusk</td>\n",
       "      <td>2011-12-01T09:55:11.000Z</td>\n",
       "      <td>Went to Iceland on Sat to ride bumper cars on ...</td>\n",
       "      <td>30</td>\n",
       "      <td>24</td>\n",
       "      <td>188</td>\n",
       "      <td>['https://pbs.twimg.com/media/Afkf5DMCAAEJGFr?...</td>\n",
       "      <td>https://twitter.com/elonmusk/status/1421799282...</td>\n",
       "      <td>2011-12-01</td>\n",
       "    </tr>\n",
       "    <tr>\n",
       "      <th>2</th>\n",
       "      <td>Elon Musk</td>\n",
       "      <td>@elonmusk</td>\n",
       "      <td>2011-12-01T10:29:04.000Z</td>\n",
       "      <td>I made the volume on the Model S http://ow.ly/...</td>\n",
       "      <td>29</td>\n",
       "      <td>17</td>\n",
       "      <td>78</td>\n",
       "      <td>[]</td>\n",
       "      <td>https://twitter.com/elonmusk/status/1421884581...</td>\n",
       "      <td>2011-12-01</td>\n",
       "    </tr>\n",
       "    <tr>\n",
       "      <th>3</th>\n",
       "      <td>Elon Musk</td>\n",
       "      <td>@elonmusk</td>\n",
       "      <td>2011-12-03T08:20:28.000Z</td>\n",
       "      <td>Great Voltaire quote, arguably better than Twa...</td>\n",
       "      <td>23</td>\n",
       "      <td>30</td>\n",
       "      <td>44</td>\n",
       "      <td>[]</td>\n",
       "      <td>https://twitter.com/elonmusk/status/1428808713...</td>\n",
       "      <td>2011-12-03</td>\n",
       "    </tr>\n",
       "    <tr>\n",
       "      <th>4</th>\n",
       "      <td>Elon Musk</td>\n",
       "      <td>@elonmusk</td>\n",
       "      <td>2011-12-03T08:22:07.000Z</td>\n",
       "      <td>That was a total non sequitur btw\\n26\\n14\\n50</td>\n",
       "      <td>26</td>\n",
       "      <td>14</td>\n",
       "      <td>50</td>\n",
       "      <td>[]</td>\n",
       "      <td>https://twitter.com/elonmusk/status/1428812840...</td>\n",
       "      <td>2011-12-03</td>\n",
       "    </tr>\n",
       "  </tbody>\n",
       "</table>\n",
       "</div>"
      ],
      "text/plain": [
       "  userscreenname   username                 post_time  \\\n",
       "0      Elon Musk  @elonmusk  2010-06-04T18:31:57.000Z   \n",
       "1      Elon Musk  @elonmusk  2011-12-01T09:55:11.000Z   \n",
       "2      Elon Musk  @elonmusk  2011-12-01T10:29:04.000Z   \n",
       "3      Elon Musk  @elonmusk  2011-12-03T08:20:28.000Z   \n",
       "4      Elon Musk  @elonmusk  2011-12-03T08:22:07.000Z   \n",
       "\n",
       "                                                text comments likes retweets  \\\n",
       "0  Please ignore prior tweets, as that was someon...      873   648    5,453   \n",
       "1  Went to Iceland on Sat to ride bumper cars on ...       30    24      188   \n",
       "2  I made the volume on the Model S http://ow.ly/...       29    17       78   \n",
       "3  Great Voltaire quote, arguably better than Twa...       23    30       44   \n",
       "4      That was a total non sequitur btw\\n26\\n14\\n50       26    14       50   \n",
       "\n",
       "                                          image_link  \\\n",
       "0                                                 []   \n",
       "1  ['https://pbs.twimg.com/media/Afkf5DMCAAEJGFr?...   \n",
       "2                                                 []   \n",
       "3                                                 []   \n",
       "4                                                 []   \n",
       "\n",
       "                                           tweet_url n_post_time  \n",
       "0    https://twitter.com/elonmusk/status/15434727182  2010-06-04  \n",
       "1  https://twitter.com/elonmusk/status/1421799282...  2011-12-01  \n",
       "2  https://twitter.com/elonmusk/status/1421884581...  2011-12-01  \n",
       "3  https://twitter.com/elonmusk/status/1428808713...  2011-12-03  \n",
       "4  https://twitter.com/elonmusk/status/1428812840...  2011-12-03  "
      ]
     },
     "execution_count": 30,
     "metadata": {},
     "output_type": "execute_result"
    }
   ],
   "source": [
    "df2['n_post_time']=time(df2.post_time)\n",
    "df2.head()"
   ]
  },
  {
   "cell_type": "code",
   "execution_count": 31,
   "id": "8420189b",
   "metadata": {},
   "outputs": [],
   "source": [
    "df2['n_post_time'] = pd.to_datetime(df2['n_post_time'])\n",
    "del df2['post_time']"
   ]
  },
  {
   "cell_type": "code",
   "execution_count": 32,
   "id": "380e50a3",
   "metadata": {},
   "outputs": [
    {
     "name": "stdout",
     "output_type": "stream",
     "text": [
      "<class 'pandas.core.frame.DataFrame'>\n",
      "RangeIndex: 12206 entries, 0 to 12205\n",
      "Data columns (total 9 columns):\n",
      " #   Column          Non-Null Count  Dtype         \n",
      "---  ------          --------------  -----         \n",
      " 0   userscreenname  12206 non-null  object        \n",
      " 1   username        12206 non-null  object        \n",
      " 2   text            12206 non-null  object        \n",
      " 3   comments        12206 non-null  object        \n",
      " 4   likes           12206 non-null  object        \n",
      " 5   retweets        12206 non-null  object        \n",
      " 6   image_link      12206 non-null  object        \n",
      " 7   tweet_url       12206 non-null  object        \n",
      " 8   n_post_time     12206 non-null  datetime64[ns]\n",
      "dtypes: datetime64[ns](1), object(8)\n",
      "memory usage: 858.4+ KB\n"
     ]
    }
   ],
   "source": [
    "df2.info()"
   ]
  },
  {
   "cell_type": "code",
   "execution_count": 33,
   "id": "406e901f",
   "metadata": {},
   "outputs": [],
   "source": [
    "df2.retweets=[c.lower().replace(',', '') for c in df2.retweets]\n",
    "df2.comments=[c.lower().replace(',', '') for c in df2.comments]\n",
    "df2.likes=[c.lower().replace(',', '') for c in df2.likes]"
   ]
  },
  {
   "cell_type": "code",
   "execution_count": 34,
   "id": "47e4a1d9",
   "metadata": {},
   "outputs": [],
   "source": [
    "def exchange(col):\n",
    "    \n",
    "    res=[]\n",
    "    \n",
    "    number=1\n",
    "    \n",
    "    \n",
    "    for e in col:\n",
    "        if e[-1].isdigit():\n",
    "            res.append(e)\n",
    "            \n",
    "        else:\n",
    "        \n",
    "            if e[-1]=='k':\n",
    "                number=1e3\n",
    "                n_col=re.findall('[0-9.]+', e)[0]\n",
    "                res.append(int(float(n_col) * number))\n",
    "\n",
    "\n",
    "            elif e[-1]=='K': \n",
    "                number=1e3\n",
    "                n_col=re.findall('[0-9.]+', e)[0]\n",
    "                res.append(int(float(n_col) * number))\n",
    "\n",
    "            elif e[-1]=='M': \n",
    "                number=1e6\n",
    "                n_col=re.findall('[0-9.]+', e)[0]\n",
    "                res.append(int(float(n_col) * number))\n",
    "\n",
    "            elif e[-1]=='m': \n",
    "                number=1e6\n",
    "                n_col=re.findall('[0-9.]+', e)[0]\n",
    "                res.append(int(float(n_col) * number))\n",
    "\n",
    "\n",
    "            else:\n",
    "                n_col=re.findall('[0-9.]+', e)[0]\n",
    "                res.append(int(float(n_col) * number))\n",
    "                   \n",
    "    return res"
   ]
  },
  {
   "cell_type": "code",
   "execution_count": 35,
   "id": "a81d39c7",
   "metadata": {},
   "outputs": [
    {
     "data": {
      "text/plain": [
       "['23333']"
      ]
     },
     "execution_count": 35,
     "metadata": {},
     "output_type": "execute_result"
    }
   ],
   "source": [
    "exchange(['23333'])"
   ]
  },
  {
   "cell_type": "code",
   "execution_count": 36,
   "id": "b9de3f6b",
   "metadata": {},
   "outputs": [],
   "source": [
    "df2['n_retweets']=exchange(df2.retweets)\n"
   ]
  },
  {
   "cell_type": "code",
   "execution_count": 37,
   "id": "def4dc93",
   "metadata": {},
   "outputs": [],
   "source": [
    "df2['n_comments']=exchange(df2.comments)\n"
   ]
  },
  {
   "cell_type": "code",
   "execution_count": 38,
   "id": "5d01a8a4",
   "metadata": {},
   "outputs": [],
   "source": [
    "df2['n_likes']=exchange(df2.likes)"
   ]
  },
  {
   "cell_type": "code",
   "execution_count": 39,
   "id": "ad9da1aa",
   "metadata": {},
   "outputs": [
    {
     "data": {
      "text/html": [
       "<div>\n",
       "<style scoped>\n",
       "    .dataframe tbody tr th:only-of-type {\n",
       "        vertical-align: middle;\n",
       "    }\n",
       "\n",
       "    .dataframe tbody tr th {\n",
       "        vertical-align: top;\n",
       "    }\n",
       "\n",
       "    .dataframe thead th {\n",
       "        text-align: right;\n",
       "    }\n",
       "</style>\n",
       "<table border=\"1\" class=\"dataframe\">\n",
       "  <thead>\n",
       "    <tr style=\"text-align: right;\">\n",
       "      <th></th>\n",
       "      <th>userscreenname</th>\n",
       "      <th>username</th>\n",
       "      <th>text</th>\n",
       "      <th>comments</th>\n",
       "      <th>likes</th>\n",
       "      <th>retweets</th>\n",
       "      <th>image_link</th>\n",
       "      <th>tweet_url</th>\n",
       "      <th>n_post_time</th>\n",
       "      <th>n_retweets</th>\n",
       "      <th>n_comments</th>\n",
       "      <th>n_likes</th>\n",
       "    </tr>\n",
       "  </thead>\n",
       "  <tbody>\n",
       "    <tr>\n",
       "      <th>0</th>\n",
       "      <td>Elon Musk</td>\n",
       "      <td>@elonmusk</td>\n",
       "      <td>Please ignore prior tweets, as that was someon...</td>\n",
       "      <td>873</td>\n",
       "      <td>648</td>\n",
       "      <td>5453</td>\n",
       "      <td>[]</td>\n",
       "      <td>https://twitter.com/elonmusk/status/15434727182</td>\n",
       "      <td>2010-06-04</td>\n",
       "      <td>5453</td>\n",
       "      <td>873</td>\n",
       "      <td>648</td>\n",
       "    </tr>\n",
       "    <tr>\n",
       "      <th>1</th>\n",
       "      <td>Elon Musk</td>\n",
       "      <td>@elonmusk</td>\n",
       "      <td>Went to Iceland on Sat to ride bumper cars on ...</td>\n",
       "      <td>30</td>\n",
       "      <td>24</td>\n",
       "      <td>188</td>\n",
       "      <td>['https://pbs.twimg.com/media/Afkf5DMCAAEJGFr?...</td>\n",
       "      <td>https://twitter.com/elonmusk/status/1421799282...</td>\n",
       "      <td>2011-12-01</td>\n",
       "      <td>188</td>\n",
       "      <td>30</td>\n",
       "      <td>24</td>\n",
       "    </tr>\n",
       "    <tr>\n",
       "      <th>2</th>\n",
       "      <td>Elon Musk</td>\n",
       "      <td>@elonmusk</td>\n",
       "      <td>I made the volume on the Model S http://ow.ly/...</td>\n",
       "      <td>29</td>\n",
       "      <td>17</td>\n",
       "      <td>78</td>\n",
       "      <td>[]</td>\n",
       "      <td>https://twitter.com/elonmusk/status/1421884581...</td>\n",
       "      <td>2011-12-01</td>\n",
       "      <td>78</td>\n",
       "      <td>29</td>\n",
       "      <td>17</td>\n",
       "    </tr>\n",
       "    <tr>\n",
       "      <th>3</th>\n",
       "      <td>Elon Musk</td>\n",
       "      <td>@elonmusk</td>\n",
       "      <td>Great Voltaire quote, arguably better than Twa...</td>\n",
       "      <td>23</td>\n",
       "      <td>30</td>\n",
       "      <td>44</td>\n",
       "      <td>[]</td>\n",
       "      <td>https://twitter.com/elonmusk/status/1428808713...</td>\n",
       "      <td>2011-12-03</td>\n",
       "      <td>44</td>\n",
       "      <td>23</td>\n",
       "      <td>30</td>\n",
       "    </tr>\n",
       "    <tr>\n",
       "      <th>4</th>\n",
       "      <td>Elon Musk</td>\n",
       "      <td>@elonmusk</td>\n",
       "      <td>That was a total non sequitur btw\\n26\\n14\\n50</td>\n",
       "      <td>26</td>\n",
       "      <td>14</td>\n",
       "      <td>50</td>\n",
       "      <td>[]</td>\n",
       "      <td>https://twitter.com/elonmusk/status/1428812840...</td>\n",
       "      <td>2011-12-03</td>\n",
       "      <td>50</td>\n",
       "      <td>26</td>\n",
       "      <td>14</td>\n",
       "    </tr>\n",
       "  </tbody>\n",
       "</table>\n",
       "</div>"
      ],
      "text/plain": [
       "  userscreenname   username  \\\n",
       "0      Elon Musk  @elonmusk   \n",
       "1      Elon Musk  @elonmusk   \n",
       "2      Elon Musk  @elonmusk   \n",
       "3      Elon Musk  @elonmusk   \n",
       "4      Elon Musk  @elonmusk   \n",
       "\n",
       "                                                text comments likes retweets  \\\n",
       "0  Please ignore prior tweets, as that was someon...      873   648     5453   \n",
       "1  Went to Iceland on Sat to ride bumper cars on ...       30    24      188   \n",
       "2  I made the volume on the Model S http://ow.ly/...       29    17       78   \n",
       "3  Great Voltaire quote, arguably better than Twa...       23    30       44   \n",
       "4      That was a total non sequitur btw\\n26\\n14\\n50       26    14       50   \n",
       "\n",
       "                                          image_link  \\\n",
       "0                                                 []   \n",
       "1  ['https://pbs.twimg.com/media/Afkf5DMCAAEJGFr?...   \n",
       "2                                                 []   \n",
       "3                                                 []   \n",
       "4                                                 []   \n",
       "\n",
       "                                           tweet_url n_post_time n_retweets  \\\n",
       "0    https://twitter.com/elonmusk/status/15434727182  2010-06-04       5453   \n",
       "1  https://twitter.com/elonmusk/status/1421799282...  2011-12-01        188   \n",
       "2  https://twitter.com/elonmusk/status/1421884581...  2011-12-01         78   \n",
       "3  https://twitter.com/elonmusk/status/1428808713...  2011-12-03         44   \n",
       "4  https://twitter.com/elonmusk/status/1428812840...  2011-12-03         50   \n",
       "\n",
       "  n_comments n_likes  \n",
       "0        873     648  \n",
       "1         30      24  \n",
       "2         29      17  \n",
       "3         23      30  \n",
       "4         26      14  "
      ]
     },
     "execution_count": 39,
     "metadata": {},
     "output_type": "execute_result"
    }
   ],
   "source": [
    "df2.head()"
   ]
  },
  {
   "cell_type": "code",
   "execution_count": 40,
   "id": "7cae9385",
   "metadata": {},
   "outputs": [
    {
     "name": "stdout",
     "output_type": "stream",
     "text": [
      "<class 'pandas.core.frame.DataFrame'>\n",
      "RangeIndex: 12206 entries, 0 to 12205\n",
      "Data columns (total 12 columns):\n",
      " #   Column          Non-Null Count  Dtype         \n",
      "---  ------          --------------  -----         \n",
      " 0   userscreenname  12206 non-null  object        \n",
      " 1   username        12206 non-null  object        \n",
      " 2   text            12206 non-null  object        \n",
      " 3   comments        12206 non-null  object        \n",
      " 4   likes           12206 non-null  object        \n",
      " 5   retweets        12206 non-null  object        \n",
      " 6   image_link      12206 non-null  object        \n",
      " 7   tweet_url       12206 non-null  object        \n",
      " 8   n_post_time     12206 non-null  datetime64[ns]\n",
      " 9   n_retweets      12206 non-null  object        \n",
      " 10  n_comments      12206 non-null  object        \n",
      " 11  n_likes         12206 non-null  object        \n",
      "dtypes: datetime64[ns](1), object(11)\n",
      "memory usage: 1.1+ MB\n"
     ]
    }
   ],
   "source": [
    "df2.info()"
   ]
  },
  {
   "cell_type": "code",
   "execution_count": 41,
   "id": "9f224f0f",
   "metadata": {},
   "outputs": [],
   "source": [
    "del df2['likes']\n",
    "del df2['comments']\n",
    "del df2['retweets']"
   ]
  },
  {
   "cell_type": "code",
   "execution_count": 42,
   "id": "c45b1b30",
   "metadata": {},
   "outputs": [],
   "source": [
    "df2['n_likes'] = df2['n_likes'].astype('int')"
   ]
  },
  {
   "cell_type": "code",
   "execution_count": 43,
   "id": "6e686638",
   "metadata": {},
   "outputs": [],
   "source": [
    "df2['n_comments'] = df2['n_comments'].astype('int')"
   ]
  },
  {
   "cell_type": "code",
   "execution_count": 44,
   "id": "35f01165",
   "metadata": {},
   "outputs": [],
   "source": [
    "df2['n_retweets'] = df2['n_retweets'].astype('int')"
   ]
  },
  {
   "cell_type": "code",
   "execution_count": 45,
   "id": "8eb93aa9",
   "metadata": {},
   "outputs": [
    {
     "name": "stdout",
     "output_type": "stream",
     "text": [
      "<class 'pandas.core.frame.DataFrame'>\n",
      "RangeIndex: 12206 entries, 0 to 12205\n",
      "Data columns (total 9 columns):\n",
      " #   Column          Non-Null Count  Dtype         \n",
      "---  ------          --------------  -----         \n",
      " 0   userscreenname  12206 non-null  object        \n",
      " 1   username        12206 non-null  object        \n",
      " 2   text            12206 non-null  object        \n",
      " 3   image_link      12206 non-null  object        \n",
      " 4   tweet_url       12206 non-null  object        \n",
      " 5   n_post_time     12206 non-null  datetime64[ns]\n",
      " 6   n_retweets      12206 non-null  int32         \n",
      " 7   n_comments      12206 non-null  int32         \n",
      " 8   n_likes         12206 non-null  int32         \n",
      "dtypes: datetime64[ns](1), int32(3), object(5)\n",
      "memory usage: 715.3+ KB\n"
     ]
    }
   ],
   "source": [
    "df2.info()"
   ]
  },
  {
   "cell_type": "code",
   "execution_count": 46,
   "id": "30393f22",
   "metadata": {},
   "outputs": [],
   "source": [
    "df2['year'] = pd.DatetimeIndex(df2['n_post_time']).year"
   ]
  },
  {
   "cell_type": "code",
   "execution_count": 47,
   "id": "25f7aeeb",
   "metadata": {},
   "outputs": [],
   "source": [
    "df2['month'] = pd.DatetimeIndex(df2['n_post_time']).month"
   ]
  },
  {
   "cell_type": "code",
   "execution_count": 48,
   "id": "f165443f",
   "metadata": {},
   "outputs": [],
   "source": [
    "df2.columns=[c.lower().replace('n_post_time', 'date') for c in df2.columns]\n",
    "df2.columns=[c.lower().replace('n_comments', 'comments') for c in df2.columns]\n",
    "df2.columns=[c.lower().replace('n_likes', 'likes') for c in df2.columns]\n",
    "df2.columns=[c.lower().replace('n_retweets', 'retweets') for c in df2.columns]"
   ]
  },
  {
   "cell_type": "code",
   "execution_count": 49,
   "id": "a691f0a1",
   "metadata": {},
   "outputs": [
    {
     "data": {
      "text/html": [
       "<div>\n",
       "<style scoped>\n",
       "    .dataframe tbody tr th:only-of-type {\n",
       "        vertical-align: middle;\n",
       "    }\n",
       "\n",
       "    .dataframe tbody tr th {\n",
       "        vertical-align: top;\n",
       "    }\n",
       "\n",
       "    .dataframe thead th {\n",
       "        text-align: right;\n",
       "    }\n",
       "</style>\n",
       "<table border=\"1\" class=\"dataframe\">\n",
       "  <thead>\n",
       "    <tr style=\"text-align: right;\">\n",
       "      <th></th>\n",
       "      <th>userscreenname</th>\n",
       "      <th>username</th>\n",
       "      <th>text</th>\n",
       "      <th>image_link</th>\n",
       "      <th>tweet_url</th>\n",
       "      <th>date</th>\n",
       "      <th>retweets</th>\n",
       "      <th>comments</th>\n",
       "      <th>likes</th>\n",
       "      <th>year</th>\n",
       "      <th>month</th>\n",
       "    </tr>\n",
       "  </thead>\n",
       "  <tbody>\n",
       "    <tr>\n",
       "      <th>0</th>\n",
       "      <td>Elon Musk</td>\n",
       "      <td>@elonmusk</td>\n",
       "      <td>Please ignore prior tweets, as that was someon...</td>\n",
       "      <td>[]</td>\n",
       "      <td>https://twitter.com/elonmusk/status/15434727182</td>\n",
       "      <td>2010-06-04</td>\n",
       "      <td>5453</td>\n",
       "      <td>873</td>\n",
       "      <td>648</td>\n",
       "      <td>2010</td>\n",
       "      <td>6</td>\n",
       "    </tr>\n",
       "    <tr>\n",
       "      <th>1</th>\n",
       "      <td>Elon Musk</td>\n",
       "      <td>@elonmusk</td>\n",
       "      <td>Went to Iceland on Sat to ride bumper cars on ...</td>\n",
       "      <td>['https://pbs.twimg.com/media/Afkf5DMCAAEJGFr?...</td>\n",
       "      <td>https://twitter.com/elonmusk/status/1421799282...</td>\n",
       "      <td>2011-12-01</td>\n",
       "      <td>188</td>\n",
       "      <td>30</td>\n",
       "      <td>24</td>\n",
       "      <td>2011</td>\n",
       "      <td>12</td>\n",
       "    </tr>\n",
       "    <tr>\n",
       "      <th>2</th>\n",
       "      <td>Elon Musk</td>\n",
       "      <td>@elonmusk</td>\n",
       "      <td>I made the volume on the Model S http://ow.ly/...</td>\n",
       "      <td>[]</td>\n",
       "      <td>https://twitter.com/elonmusk/status/1421884581...</td>\n",
       "      <td>2011-12-01</td>\n",
       "      <td>78</td>\n",
       "      <td>29</td>\n",
       "      <td>17</td>\n",
       "      <td>2011</td>\n",
       "      <td>12</td>\n",
       "    </tr>\n",
       "    <tr>\n",
       "      <th>3</th>\n",
       "      <td>Elon Musk</td>\n",
       "      <td>@elonmusk</td>\n",
       "      <td>Great Voltaire quote, arguably better than Twa...</td>\n",
       "      <td>[]</td>\n",
       "      <td>https://twitter.com/elonmusk/status/1428808713...</td>\n",
       "      <td>2011-12-03</td>\n",
       "      <td>44</td>\n",
       "      <td>23</td>\n",
       "      <td>30</td>\n",
       "      <td>2011</td>\n",
       "      <td>12</td>\n",
       "    </tr>\n",
       "    <tr>\n",
       "      <th>4</th>\n",
       "      <td>Elon Musk</td>\n",
       "      <td>@elonmusk</td>\n",
       "      <td>That was a total non sequitur btw\\n26\\n14\\n50</td>\n",
       "      <td>[]</td>\n",
       "      <td>https://twitter.com/elonmusk/status/1428812840...</td>\n",
       "      <td>2011-12-03</td>\n",
       "      <td>50</td>\n",
       "      <td>26</td>\n",
       "      <td>14</td>\n",
       "      <td>2011</td>\n",
       "      <td>12</td>\n",
       "    </tr>\n",
       "  </tbody>\n",
       "</table>\n",
       "</div>"
      ],
      "text/plain": [
       "  userscreenname   username  \\\n",
       "0      Elon Musk  @elonmusk   \n",
       "1      Elon Musk  @elonmusk   \n",
       "2      Elon Musk  @elonmusk   \n",
       "3      Elon Musk  @elonmusk   \n",
       "4      Elon Musk  @elonmusk   \n",
       "\n",
       "                                                text  \\\n",
       "0  Please ignore prior tweets, as that was someon...   \n",
       "1  Went to Iceland on Sat to ride bumper cars on ...   \n",
       "2  I made the volume on the Model S http://ow.ly/...   \n",
       "3  Great Voltaire quote, arguably better than Twa...   \n",
       "4      That was a total non sequitur btw\\n26\\n14\\n50   \n",
       "\n",
       "                                          image_link  \\\n",
       "0                                                 []   \n",
       "1  ['https://pbs.twimg.com/media/Afkf5DMCAAEJGFr?...   \n",
       "2                                                 []   \n",
       "3                                                 []   \n",
       "4                                                 []   \n",
       "\n",
       "                                           tweet_url       date  retweets  \\\n",
       "0    https://twitter.com/elonmusk/status/15434727182 2010-06-04      5453   \n",
       "1  https://twitter.com/elonmusk/status/1421799282... 2011-12-01       188   \n",
       "2  https://twitter.com/elonmusk/status/1421884581... 2011-12-01        78   \n",
       "3  https://twitter.com/elonmusk/status/1428808713... 2011-12-03        44   \n",
       "4  https://twitter.com/elonmusk/status/1428812840... 2011-12-03        50   \n",
       "\n",
       "   comments  likes  year  month  \n",
       "0       873    648  2010      6  \n",
       "1        30     24  2011     12  \n",
       "2        29     17  2011     12  \n",
       "3        23     30  2011     12  \n",
       "4        26     14  2011     12  "
      ]
     },
     "execution_count": 49,
     "metadata": {},
     "output_type": "execute_result"
    }
   ],
   "source": [
    "df2.head()"
   ]
  },
  {
   "cell_type": "markdown",
   "id": "05225abf",
   "metadata": {},
   "source": [
    "### 1.3 BeautifulSoup Scraping - Timeline for Tesla"
   ]
  },
  {
   "cell_type": "code",
   "execution_count": 79,
   "id": "b6d7222b",
   "metadata": {},
   "outputs": [],
   "source": [
    "import requests as req\n",
    "\n",
    "from bs4 import BeautifulSoup as bs\n",
    "\n",
    "import pandas as pd"
   ]
  },
  {
   "cell_type": "code",
   "execution_count": 109,
   "id": "e599007f",
   "metadata": {},
   "outputs": [],
   "source": [
    "url='https://www.tradingview.com/symbols/NASDAQ-TSLA/history-timeline/#'"
   ]
  },
  {
   "cell_type": "code",
   "execution_count": 110,
   "id": "7286b229",
   "metadata": {},
   "outputs": [],
   "source": [
    "html=req.get(url).content"
   ]
  },
  {
   "cell_type": "code",
   "execution_count": 111,
   "id": "a8ba3dad",
   "metadata": {},
   "outputs": [],
   "source": [
    "sopa=bs(html, 'html.parser')"
   ]
  },
  {
   "cell_type": "code",
   "execution_count": 112,
   "id": "b6d43061",
   "metadata": {},
   "outputs": [],
   "source": [
    "todos_elementos=sopa.find('div', class_='js-feed-wrap')"
   ]
  },
  {
   "cell_type": "code",
   "execution_count": 113,
   "id": "7d2c110d",
   "metadata": {},
   "outputs": [],
   "source": [
    "data_1_elemento=todos_elementos.find_all('div', class_='container-jdFEaBiF')[0]"
   ]
  },
  {
   "cell_type": "code",
   "execution_count": 114,
   "id": "811d3058",
   "metadata": {},
   "outputs": [],
   "source": [
    "fecha=data_1_elemento.find('div', class_='date-jdFEaBiF').text.strip()\n",
    "\n",
    "header=data_1_elemento.find('h4', class_='title-jdFEaBiF').text.strip()\n",
    "\n",
    "cuerpo=data_1_elemento.find('span', class_='description-jdFEaBiF').text.strip()"
   ]
  },
  {
   "cell_type": "code",
   "execution_count": 115,
   "id": "0bdeed60",
   "metadata": {},
   "outputs": [
    {
     "data": {
      "text/plain": [
       "{'fecha': 'Jun 212022',\n",
       " 'header': 'Is Elongate upon us?',\n",
       " 'cuerpo': \"Elon Musk is getting hit with lawsuits left right and center after a few months (years?) of keeping everyone on their toes.Tesla has been stung with another lawsuit. This one comes from two former employees, who claimed in a Sunday filing that the EV maker’s decision to lay off around 10% of Tesla staff required at least 60 days advance notice – which they apparently didn't get. Musk’s “super bad feeling about the economy” was at the root of the ~500-person layoff, according to his tweets anyway. Tesla has been hiring rapidly in the last few months despite economic uncertainty swirling, which is one of the reasons employees were surprised by layoffs. But, apparently the situation has become too tenuous, even for Elon.It was the second lawsuit of the week for Tesla and its famous/infamous CEO (depends who you ask). A Dogecoin investor, who intends to turn the suit into a class action, sued Elon Musk and his companies – Tesla and SpaceX – for allegedly promoting “worthless” Dogecoin to profit from its trading, asking for $258bn in damages.\"}"
      ]
     },
     "execution_count": 115,
     "metadata": {},
     "output_type": "execute_result"
    }
   ],
   "source": [
    "{'fecha': fecha,\n",
    "'header': header,\n",
    "'cuerpo': cuerpo}"
   ]
  },
  {
   "cell_type": "code",
   "execution_count": 116,
   "id": "9f6d2d00",
   "metadata": {},
   "outputs": [],
   "source": [
    "def timeline(url):\n",
    "    headers = {\n",
    "    \"User-Agent\": \"Mozilla/5.0 (compatible; Googlebot/2.1; +http://www.google.com/bot.html)\"\n",
    "    }\n",
    "    \n",
    "    for i in range(1, 50):\n",
    "        url = \"https://www.tradingview.com/symbols/NASDAQ-TSLA/history-timeline/#\" + str(i)\n",
    "        r = req.get(url, headers=headers)\n",
    "        sopa = bs(r.content, \"html.parser\")\n",
    "    \n",
    "        data=[] \n",
    "\n",
    "        for e in sopa.find('div', class_='js-feed-wrap').find_all('div', class_='container-jdFEaBiF'):\n",
    "\n",
    "            fecha=e.find('div', class_='date-jdFEaBiF').text.strip()\n",
    "\n",
    "            header=e.find('h4', class_='title-jdFEaBiF').text.strip()\n",
    "\n",
    "            cuerpo=e.find('span', class_='description-jdFEaBiF').text.strip()\n",
    "\n",
    "            data.append({'fecha': fecha,\n",
    "                                 'header': header,\n",
    "                                 'cuerpo': cuerpo})\n",
    "\n",
    "        \n",
    "    return pd.DataFrame(data)"
   ]
  },
  {
   "cell_type": "code",
   "execution_count": 117,
   "id": "4ade8918",
   "metadata": {},
   "outputs": [
    {
     "data": {
      "text/html": [
       "<div>\n",
       "<style scoped>\n",
       "    .dataframe tbody tr th:only-of-type {\n",
       "        vertical-align: middle;\n",
       "    }\n",
       "\n",
       "    .dataframe tbody tr th {\n",
       "        vertical-align: top;\n",
       "    }\n",
       "\n",
       "    .dataframe thead th {\n",
       "        text-align: right;\n",
       "    }\n",
       "</style>\n",
       "<table border=\"1\" class=\"dataframe\">\n",
       "  <thead>\n",
       "    <tr style=\"text-align: right;\">\n",
       "      <th></th>\n",
       "      <th>fecha</th>\n",
       "      <th>header</th>\n",
       "      <th>cuerpo</th>\n",
       "    </tr>\n",
       "  </thead>\n",
       "  <tbody>\n",
       "    <tr>\n",
       "      <th>0</th>\n",
       "      <td>Jun 212022</td>\n",
       "      <td>Is Elongate upon us?</td>\n",
       "      <td>Elon Musk is getting hit with lawsuits left ri...</td>\n",
       "    </tr>\n",
       "    <tr>\n",
       "      <th>1</th>\n",
       "      <td>Jun 062022</td>\n",
       "      <td>The hiring tank is running low</td>\n",
       "      <td>Macroeconomic headwinds continue to slow Tesla...</td>\n",
       "    </tr>\n",
       "    <tr>\n",
       "      <th>2</th>\n",
       "      <td>May 192022</td>\n",
       "      <td>Tesla gets testy</td>\n",
       "      <td>Elon Musk goes on a heated Twitter rampage, la...</td>\n",
       "    </tr>\n",
       "    <tr>\n",
       "      <th>3</th>\n",
       "      <td>Apr 272022</td>\n",
       "      <td>Delaware but here</td>\n",
       "      <td>Musk wins a shareholder battle over Tesla’s $2...</td>\n",
       "    </tr>\n",
       "    <tr>\n",
       "      <th>4</th>\n",
       "      <td>Apr 212022</td>\n",
       "      <td>Tesla races past its own records</td>\n",
       "      <td>Tesla lit up its stock with a 4/20 earnings re...</td>\n",
       "    </tr>\n",
       "    <tr>\n",
       "      <th>5</th>\n",
       "      <td>Apr 182022</td>\n",
       "      <td>Berlin Gigafactory holds its own</td>\n",
       "      <td>A new report from Germany gives some insight i...</td>\n",
       "    </tr>\n",
       "    <tr>\n",
       "      <th>6</th>\n",
       "      <td>Apr 182022</td>\n",
       "      <td>Tesla Insurance travels to more states</td>\n",
       "      <td>Tesla Insurance, which is a growing division f...</td>\n",
       "    </tr>\n",
       "    <tr>\n",
       "      <th>7</th>\n",
       "      <td>Apr 182022</td>\n",
       "      <td>Mercedes challenges the charge crown</td>\n",
       "      <td>Tesla’s grip on the EV market’s wheel is looki...</td>\n",
       "    </tr>\n",
       "    <tr>\n",
       "      <th>8</th>\n",
       "      <td>Apr 162022</td>\n",
       "      <td>A new Megapack is here</td>\n",
       "      <td>Tesla unveils its latest massive Megapack proj...</td>\n",
       "    </tr>\n",
       "    <tr>\n",
       "      <th>9</th>\n",
       "      <td>Apr 152022</td>\n",
       "      <td>Musk gets mad at the SEC</td>\n",
       "      <td>Elon Musk claps back at the SEC regarding his ...</td>\n",
       "    </tr>\n",
       "    <tr>\n",
       "      <th>10</th>\n",
       "      <td>Apr 132022</td>\n",
       "      <td>Fake news fans Lithium Corp stock</td>\n",
       "      <td>A bunch of fans spread the distinctly fake new...</td>\n",
       "    </tr>\n",
       "    <tr>\n",
       "      <th>11</th>\n",
       "      <td>Apr 082022</td>\n",
       "      <td>Two Blocks go solar</td>\n",
       "      <td>Bitcoin firm Blockstream and Twitter founder J...</td>\n",
       "    </tr>\n",
       "    <tr>\n",
       "      <th>12</th>\n",
       "      <td>Apr 072022</td>\n",
       "      <td>Tesla the HODLer</td>\n",
       "      <td>An SEC filing reveals that Tesla now holds jus...</td>\n",
       "    </tr>\n",
       "    <tr>\n",
       "      <th>13</th>\n",
       "      <td>Apr 072022</td>\n",
       "      <td>Rodeo drive</td>\n",
       "      <td>Tesla holds its Cyber Rodeo party to commemora...</td>\n",
       "    </tr>\n",
       "    <tr>\n",
       "      <th>14</th>\n",
       "      <td>Apr 062022</td>\n",
       "      <td>Shanghai is going bye bye</td>\n",
       "      <td>A resurgence of Covid in China means Tesla’s S...</td>\n",
       "    </tr>\n",
       "    <tr>\n",
       "      <th>15</th>\n",
       "      <td>Apr 042022</td>\n",
       "      <td>Tesla races across a milestone</td>\n",
       "      <td>Tesla is on the way to winning its game of cat...</td>\n",
       "    </tr>\n",
       "    <tr>\n",
       "      <th>16</th>\n",
       "      <td>Mar 312022</td>\n",
       "      <td>Solartime sadness</td>\n",
       "      <td>Tesla pauses installations of its solar roof t...</td>\n",
       "    </tr>\n",
       "    <tr>\n",
       "      <th>17</th>\n",
       "      <td>Mar 292022</td>\n",
       "      <td>Stock split bliss</td>\n",
       "      <td>Tesla tops off two weeks of stupendous gains w...</td>\n",
       "    </tr>\n",
       "    <tr>\n",
       "      <th>18</th>\n",
       "      <td>Mar 252022</td>\n",
       "      <td>Yep, another recall</td>\n",
       "      <td>Are Tesla customers sick of these recalls yet?...</td>\n",
       "    </tr>\n",
       "    <tr>\n",
       "      <th>19</th>\n",
       "      <td>Mar 222022</td>\n",
       "      <td>Good day, mate</td>\n",
       "      <td>Tesla gets handed another massive battery cont...</td>\n",
       "    </tr>\n",
       "  </tbody>\n",
       "</table>\n",
       "</div>"
      ],
      "text/plain": [
       "         fecha                                  header  \\\n",
       "0   Jun 212022                    Is Elongate upon us?   \n",
       "1   Jun 062022          The hiring tank is running low   \n",
       "2   May 192022                        Tesla gets testy   \n",
       "3   Apr 272022                       Delaware but here   \n",
       "4   Apr 212022        Tesla races past its own records   \n",
       "5   Apr 182022        Berlin Gigafactory holds its own   \n",
       "6   Apr 182022  Tesla Insurance travels to more states   \n",
       "7   Apr 182022    Mercedes challenges the charge crown   \n",
       "8   Apr 162022                  A new Megapack is here   \n",
       "9   Apr 152022                Musk gets mad at the SEC   \n",
       "10  Apr 132022       Fake news fans Lithium Corp stock   \n",
       "11  Apr 082022                     Two Blocks go solar   \n",
       "12  Apr 072022                        Tesla the HODLer   \n",
       "13  Apr 072022                             Rodeo drive   \n",
       "14  Apr 062022               Shanghai is going bye bye   \n",
       "15  Apr 042022          Tesla races across a milestone   \n",
       "16  Mar 312022                       Solartime sadness   \n",
       "17  Mar 292022                       Stock split bliss   \n",
       "18  Mar 252022                     Yep, another recall   \n",
       "19  Mar 222022                          Good day, mate   \n",
       "\n",
       "                                               cuerpo  \n",
       "0   Elon Musk is getting hit with lawsuits left ri...  \n",
       "1   Macroeconomic headwinds continue to slow Tesla...  \n",
       "2   Elon Musk goes on a heated Twitter rampage, la...  \n",
       "3   Musk wins a shareholder battle over Tesla’s $2...  \n",
       "4   Tesla lit up its stock with a 4/20 earnings re...  \n",
       "5   A new report from Germany gives some insight i...  \n",
       "6   Tesla Insurance, which is a growing division f...  \n",
       "7   Tesla’s grip on the EV market’s wheel is looki...  \n",
       "8   Tesla unveils its latest massive Megapack proj...  \n",
       "9   Elon Musk claps back at the SEC regarding his ...  \n",
       "10  A bunch of fans spread the distinctly fake new...  \n",
       "11  Bitcoin firm Blockstream and Twitter founder J...  \n",
       "12  An SEC filing reveals that Tesla now holds jus...  \n",
       "13  Tesla holds its Cyber Rodeo party to commemora...  \n",
       "14  A resurgence of Covid in China means Tesla’s S...  \n",
       "15  Tesla is on the way to winning its game of cat...  \n",
       "16  Tesla pauses installations of its solar roof t...  \n",
       "17  Tesla tops off two weeks of stupendous gains w...  \n",
       "18  Are Tesla customers sick of these recalls yet?...  \n",
       "19  Tesla gets handed another massive battery cont...  "
      ]
     },
     "execution_count": 117,
     "metadata": {},
     "output_type": "execute_result"
    }
   ],
   "source": [
    "timeline(url)"
   ]
  },
  {
   "cell_type": "code",
   "execution_count": 106,
   "id": "8d763774",
   "metadata": {},
   "outputs": [
    {
     "name": "stdout",
     "output_type": "stream",
     "text": [
      "['2022-06-23T00:00:00.000000000' '2022-06-22T00:00:00.000000000'\n",
      " '2022-06-21T00:00:00.000000000' ... '2012-06-27T00:00:00.000000000'\n",
      " '2012-06-26T00:00:00.000000000' '2012-06-25T00:00:00.000000000']\n",
      "[705.21  708.26  711.11  ...   6.392   6.322   6.622]\n",
      "[34734230 33842420 40930990 ...  5235970 13069245  7475870]\n",
      "[713.715 703.51  673.81  ...   6.27    6.38    6.41 ]\n",
      "[717.95   740.5    730.7321 ...   6.489    6.47     6.824 ]\n",
      "[685.91  701.48  673.    ...   6.2     6.314   6.278]\n",
      "[-8.505e+00  4.750e+00  3.730e+01 ...  1.200e-02 -8.800e-02 -1.660e-01]\n",
      "[2022 2021 2020 2019 2018 2017 2016 2015 2014 2013 2012]\n",
      "[ 6  5  4  3  2  1 12 11 10  9  8  7]\n"
     ]
    }
   ],
   "source": [
    "for col in df:\n",
    "  print(df[col].unique())"
   ]
  },
  {
   "cell_type": "code",
   "execution_count": 108,
   "id": "21fec43c",
   "metadata": {},
   "outputs": [
    {
     "data": {
      "text/plain": [
       "20"
      ]
     },
     "execution_count": 108,
     "metadata": {},
     "output_type": "execute_result"
    }
   ],
   "source": [
    "df3=timeline(url)\n",
    "len(df3)"
   ]
  },
  {
   "cell_type": "code",
   "execution_count": null,
   "id": "65b7dea9",
   "metadata": {},
   "outputs": [],
   "source": [
    "df3.to_excel(r'C:\\Users\\alexd\\Ironhack\\Proyectos\\Project3_DA_Ironhack\\Data\\timeline.xls', index=False)"
   ]
  },
  {
   "cell_type": "markdown",
   "id": "363041dc",
   "metadata": {},
   "source": [
    "### Conclusiones"
   ]
  },
  {
   "cell_type": "code",
   "execution_count": null,
   "id": "ab9b1dfc",
   "metadata": {},
   "outputs": [],
   "source": []
  }
 ],
 "metadata": {
  "kernelspec": {
   "display_name": "Python 3 (ipykernel)",
   "language": "python",
   "name": "python3"
  },
  "language_info": {
   "codemirror_mode": {
    "name": "ipython",
    "version": 3
   },
   "file_extension": ".py",
   "mimetype": "text/x-python",
   "name": "python",
   "nbconvert_exporter": "python",
   "pygments_lexer": "ipython3",
   "version": "3.9.7"
  }
 },
 "nbformat": 4,
 "nbformat_minor": 5
}
